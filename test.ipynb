{
 "cells": [
  {
   "cell_type": "code",
   "execution_count": 2,
   "metadata": {},
   "outputs": [],
   "source": [
    "# imports\n",
    "from subprocess import check_output\n",
    "import pandas as pd\n",
    "import plotly.express as px\n",
    "import plotly\n",
    "import re\n",
    "import nbformat\n",
    "import time\n",
    "import json"
   ]
  },
  {
   "cell_type": "code",
   "execution_count": 14,
   "metadata": {},
   "outputs": [
    {
     "name": "stdout",
     "output_type": "stream",
     "text": [
      "0.0\n",
      "0.03\n",
      "0.06\n",
      "0.09\n",
      "0.12\n",
      "0.15\n",
      "0.18\n",
      "0.21\n",
      "0.24\n",
      "0.27\n",
      "0.3\n"
     ]
    }
   ],
   "source": [
    "# measure heuristic efficiency\n",
    "results_df = pd.DataFrame(columns = ['Agent', 'Processed Cells', 'Retries', 'Trajectory', 'Final Path', 'Time', 'Probability'])\n",
    "agents = [\"Agent 1\", \"Agent 2\", \"Agent 3\", \"Agent 4\"]\n",
    "\n",
    "for i in range(12):\n",
    "    count = 0\n",
    "    p = 0.03 * i\n",
    "    print(p)\n",
    "    for x in range(3):\n",
    "        command = 'python main.py -d 101 -p {}'.format(p)\n",
    "        out = json.loads(str(check_output(command, cwd='/Users/advithchegu/Desktop/Rutgers/Fall 2021/AI/Assignment 2/src', shell=True)).lstrip(\"b'\").rstrip(\"'\").replace(\"\\\\n\", \"\"))\n",
    "\n",
    "        while not out[\"Agent 1\"][\"completed\"]:\n",
    "            out = json.loads(str(check_output(command, cwd='/Users/advithchegu/Desktop/Rutgers/Fall 2021/AI/Assignment 2/src', shell=True)).lstrip(\"b'\").rstrip(\"'\").replace(\"\\\\n\", \"\"))\n",
    "        \n",
    "        for i,a in enumerate(agents):\n",
    "            results_df = results_df.append([{'Agent': i+1, 'Processed Cells': out[a][\"processed\"], 'Retries': out[a][\"retries\"], 'Trajectory': out[a][\"trajectory\"], 'Final Path': out[a][\"shortest_trajectory\"], 'Time': out[a][\"time\"], 'Probability': round(p, 2)}], ignore_index=True)"
   ]
  }
 ],
 "metadata": {
  "interpreter": {
   "hash": "fa6e907e13b1f9b13b3c471e40f0852fec10b64e142451383d70ab3ec049413e"
  },
  "kernelspec": {
   "display_name": "Python 3.7.4 64-bit ('Assignment_2-r9XGxfLF': virtualenv)",
   "name": "python3"
  },
  "language_info": {
   "codemirror_mode": {
    "name": "ipython",
    "version": 3
   },
   "file_extension": ".py",
   "mimetype": "text/x-python",
   "name": "python",
   "nbconvert_exporter": "python",
   "pygments_lexer": "ipython3",
   "version": "3.7.4"
  },
  "orig_nbformat": 4
 },
 "nbformat": 4,
 "nbformat_minor": 2
}
